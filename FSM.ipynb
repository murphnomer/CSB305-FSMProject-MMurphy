{
 "cells": [
  {
   "cell_type": "code",
   "execution_count": 10,
   "metadata": {},
   "outputs": [],
   "source": [
    "# Represents a state and associated transitions\n",
    "class State:\n",
    "    name = ''\n",
    "    alphabet = ''\n",
    "    transitions: dict\n",
    "    isFinal = False\n",
    "\n",
    "    # Constructor\n",
    "    def __init__(self, name, alphabet, isFinal):\n",
    "        self.name = name\n",
    "        self.alphabet = alphabet\n",
    "        self.isFinal = isFinal\n",
    "        self.transitions = dict()\n",
    "\n",
    "    # Adds a transition function to this state's table \n",
    "    def addOperation(self, path, destination):\n",
    "        self.transitions[path] = destination\n",
    "        \n",
    "    # Returns the name of the end state for a given transition\n",
    "    def process(self, symbol):\n",
    "        return self.transitions[symbol]\n",
    "\n",
    "# Represents the Finite Acceptor\n",
    "class FiniteAcceptor:\n",
    "    alphabet = ''\n",
    "\n",
    "    # D for Deteministic, N for Nondeterministic\n",
    "    machineType = 'D'\n",
    "\n",
    "    # The function table for this acceptor, implemented as a dict\n",
    "    states = {}\n",
    "\n",
    "    # The starting state for any statements being evaluated\n",
    "    initialState: State\n",
    "\n",
    "    # Constructor. Must info to create the initial state\n",
    "    def __init__(self, machineType, alphabet, initialStateName, initialStateIsFinal):\n",
    "        self.alphabet = alphabet\n",
    "        self.machineType = machineType\n",
    "        self.initialState = State(initialStateName, self.alphabet, initialStateIsFinal)\n",
    "        self.addState(self.initialState)\n",
    "\n",
    "    # Work through a statement to see if it is accepted by the language described by this acceptor\n",
    "    def recognize(self, statement):\n",
    "        state = self.initialState\n",
    "        for s in statement:\n",
    "           state = self.states[state.process(s)]\n",
    "        print(f'{statement} is {\"accepted.\" if state.isFinal else \"rejected.\"}')\n",
    "        return state.isFinal\n",
    "\n",
    "    # Adds a state to the function table.  Can accept either a State object or create a new State object\n",
    "    # if the name and isFinal attribute are passed in.\n",
    "    def addState(self, name, isFinal=None):\n",
    "        if isFinal != None:\n",
    "            st = State(name, self.alphabet, isFinal)\n",
    "        else:\n",
    "            st = name\n",
    "            name = st.name\n",
    "        self.states[name] = st\n",
    "    \n",
    "    # Prints out a description of the acceptor\n",
    "    def print(self):\n",
    "        for s in self.states.keys():\n",
    "            st = self.states[s]\n",
    "            print(f'{st.name} {\"(final)\" if st.isFinal else \"\"}')\n",
    "            transitions = st.transitions\n",
    "            for t in transitions.keys():\n",
    "                print(f'  --{t}--> {transitions[t]}')\n",
    "\n",
    "    # Adds a transition to the function table\n",
    "    def addOperation(self, state, path, destination):\n",
    "        if state in self.states.keys():\n",
    "            self.states[state].addOperation(path, destination)\n"
   ]
  },
  {
   "cell_type": "code",
   "execution_count": 13,
   "metadata": {},
   "outputs": [
    {
     "name": "stdout",
     "output_type": "stream",
     "text": [
      "0 \n",
      "  --a--> 1\n",
      "  --b--> 1\n",
      "  --c--> 2\n",
      "1 (final)\n",
      "  --a--> 2\n",
      "  --b--> 2\n",
      "  --c--> 1\n",
      "2 \n",
      "  --a--> 2\n",
      "  --b--> 2\n",
      "  --c--> 2\n"
     ]
    }
   ],
   "source": [
    "# This DFA accepts statements of the form:\n",
    "#    (a+b)c*\n",
    "dfa = FiniteAcceptor('D', 'abc', '0', False)\n",
    "dfa.addOperation('0','a','1')\n",
    "dfa.addOperation('0','b','1')\n",
    "dfa.addOperation('0','c','2')\n",
    "dfa.addState('1', True)\n",
    "dfa.addOperation('1','a','2')\n",
    "dfa.addOperation('1','b','2')\n",
    "dfa.addOperation('1','c','1')\n",
    "dfa.addState('2', False)\n",
    "dfa.addOperation('2','a','2')\n",
    "dfa.addOperation('2','b','2')\n",
    "dfa.addOperation('2','c','2')\n",
    "\n",
    "dfa.print()\n"
   ]
  },
  {
   "cell_type": "code",
   "execution_count": 12,
   "metadata": {},
   "outputs": [
    {
     "name": "stdout",
     "output_type": "stream",
     "text": [
      "ac is accepted.\n",
      "bc is accepted.\n",
      "acc is accepted.\n",
      "bcc is accepted.\n",
      "accc is accepted.\n",
      "bccc is accepted.\n",
      "acccc is accepted.\n",
      "aac is rejected.\n",
      "aaac is rejected.\n",
      "abc is rejected.\n",
      "bcac is rejected.\n",
      "aaa is rejected.\n",
      "bbbc is rejected.\n",
      "bbb is rejected.\n",
      " is rejected.\n",
      "cccc is rejected.\n"
     ]
    },
    {
     "data": {
      "text/plain": [
       "False"
      ]
     },
     "execution_count": 12,
     "metadata": {},
     "output_type": "execute_result"
    }
   ],
   "source": [
    "# Statements to be recognized for the language (a+b)c*\n",
    "dfa.recognize('ac')\n",
    "dfa.recognize('bc')\n",
    "dfa.recognize('acc')\n",
    "dfa.recognize('bcc')\n",
    "dfa.recognize('accc')\n",
    "dfa.recognize('bccc')\n",
    "dfa.recognize('acccc')\n",
    "dfa.recognize('aac')\n",
    "dfa.recognize('aaac')\n",
    "dfa.recognize('abc')\n",
    "dfa.recognize('bcac')\n",
    "dfa.recognize('aaa')\n",
    "dfa.recognize('bbbc')\n",
    "dfa.recognize('bbb')\n",
    "dfa.recognize('')\n",
    "dfa.recognize('cccc')\n",
    "\n"
   ]
  }
 ],
 "metadata": {
  "kernelspec": {
   "display_name": "Python 3",
   "language": "python",
   "name": "python3"
  },
  "language_info": {
   "codemirror_mode": {
    "name": "ipython",
    "version": 3
   },
   "file_extension": ".py",
   "mimetype": "text/x-python",
   "name": "python",
   "nbconvert_exporter": "python",
   "pygments_lexer": "ipython3",
   "version": "3.11.0"
  },
  "orig_nbformat": 4
 },
 "nbformat": 4,
 "nbformat_minor": 2
}
